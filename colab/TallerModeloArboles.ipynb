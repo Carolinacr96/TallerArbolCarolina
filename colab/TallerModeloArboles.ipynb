{
  "nbformat": 4,
  "nbformat_minor": 0,
  "metadata": {
    "colab": {
      "provenance": []
    },
    "kernelspec": {
      "name": "python3",
      "display_name": "Python 3"
    },
    "language_info": {
      "name": "python"
    }
  },
  "cells": [
    {
      "cell_type": "code",
      "execution_count": null,
      "metadata": {
        "id": "t6UbCB_8wp_w"
      },
      "outputs": [],
      "source": [
        "#importar las librerias\n",
        "\n",
        "# Procesar la informacion\n",
        "import pandas as pd\n",
        "import numpy as np\n",
        "\n",
        "# Visualizacion del arbol\n",
        "import seaborn as sns\n",
        "import matplotlib.pyplot as plt\n",
        "from sklearn.tree import plot_tree\n",
        "\n",
        "# Regresion Logistica\n",
        "from sklearn.tree import DecisionTreeClassifier #\n",
        "from sklearn.preprocessing import StandardScaler\n",
        "from sklearn.model_selection import train_test_split\n",
        "from sklearn.utils import shuffle\n",
        "\n",
        "# Evaluacion del Modelo\n",
        "from sklearn.metrics import accuracy_score, confusion_matrix"
      ]
    },
    {
      "cell_type": "code",
      "source": [
        "df = pd.read_excel('agricultura.xlsx')\n",
        "df"
      ],
      "metadata": {
        "id": "n4PDFjN4wwhX"
      },
      "execution_count": null,
      "outputs": []
    },
    {
      "cell_type": "code",
      "source": [
        "df.info()"
      ],
      "metadata": {
        "id": "8ZYUWFhMyDlY"
      },
      "execution_count": null,
      "outputs": []
    },
    {
      "cell_type": "code",
      "source": [
        "#Visualizacion de datos\n",
        "sns.pairplot(df.iloc[:,1:],hue='etiqueta')"
      ],
      "metadata": {
        "id": "6IRNIY-zyU-A"
      },
      "execution_count": null,
      "outputs": []
    },
    {
      "cell_type": "markdown",
      "source": [
        "# **Entrenamiento de un modelo de regresión**"
      ],
      "metadata": {
        "id": "fvVpypMPy_VB"
      }
    },
    {
      "cell_type": "code",
      "source": [
        "# Mezclar los datos\n",
        "df = shuffle(df, random_state=1)\n",
        "df"
      ],
      "metadata": {
        "id": "PJA0TzE-zPpl"
      },
      "execution_count": null,
      "outputs": []
    },
    {
      "cell_type": "code",
      "source": [
        "# Seleccionar las variables relevantes para la regresión\n",
        "variables = ['N', 'P', 'K', 'temperatura', 'humedad','ph', 'precipitacion' ]\n",
        "\n",
        "X = df[variables]\n",
        "y = df['etiqueta']"
      ],
      "metadata": {
        "id": "JEfCrIcEzlIn"
      },
      "execution_count": null,
      "outputs": []
    },
    {
      "cell_type": "code",
      "source": [
        "# Dividir el conjunto de datos en entrenamiento y prueba\n",
        "X_train, X_test, y_train, y_test = train_test_split(X, y, test_size=0.2, random_state=10)"
      ],
      "metadata": {
        "id": "GiQOcppY0VEu"
      },
      "execution_count": null,
      "outputs": []
    },
    {
      "cell_type": "code",
      "source": [
        "# Crear el modelo de Clasificacion\n",
        "model = DecisionTreeClassifier(random_state=10)"
      ],
      "metadata": {
        "id": "tIIRDXPY07ic"
      },
      "execution_count": null,
      "outputs": []
    },
    {
      "cell_type": "code",
      "source": [
        "# Entrenar el modelo\n",
        "model.fit(X_train, y_train)"
      ],
      "metadata": {
        "id": "ayJjS6fB0_ql"
      },
      "execution_count": null,
      "outputs": []
    },
    {
      "cell_type": "code",
      "source": [
        "# Realizar predicciones en el conjunto de prueba\n",
        "y_pred = model.predict(X_test)"
      ],
      "metadata": {
        "id": "kMXAMfea1JIo"
      },
      "execution_count": null,
      "outputs": []
    },
    {
      "cell_type": "markdown",
      "source": [
        "# **Evaluación del modelo**"
      ],
      "metadata": {
        "id": "xeEJ37zc1jZC"
      }
    },
    {
      "cell_type": "code",
      "source": [
        "# Calcular la precisión del modelo\n",
        "accuracy = accuracy_score(y_test, y_pred)\n",
        "print('Precisión del modelo: %.2f' % accuracy)"
      ],
      "metadata": {
        "id": "94rAU7Ew1lfp"
      },
      "execution_count": null,
      "outputs": []
    },
    {
      "cell_type": "code",
      "source": [
        "# Calcular la matriz de confusión\n",
        "conf_matrix = confusion_matrix(y_test, y_pred)\n",
        "print('Matriz de confusión:')\n",
        "print(conf_matrix)"
      ],
      "metadata": {
        "id": "Gs1cdx1V16j5"
      },
      "execution_count": null,
      "outputs": []
    },
    {
      "cell_type": "code",
      "source": [
        "plt.figure(figsize=(16, 11))\n",
        "plot_tree(model, feature_names=df.columns[:-1], class_names=model.classes_, filled=True, rounded=True , max_depth=2)\n",
        "plt.show()"
      ],
      "metadata": {
        "id": "Olevm4512A43"
      },
      "execution_count": null,
      "outputs": []
    },
    {
      "cell_type": "markdown",
      "source": [
        "# **Predicción futura**"
      ],
      "metadata": {
        "id": "MTz18--h3PuU"
      }
    },
    {
      "cell_type": "code",
      "source": [
        "N = 13\n",
        "P = 5\n",
        "K = 8\n",
        "temperatura = 2385340379\n",
        "humedad = 910522549\n",
        "ph = 7474710503\n",
        "precipitacion = 103923226"
      ],
      "metadata": {
        "id": "p47hd0sZ3Sr4"
      },
      "execution_count": null,
      "outputs": []
    },
    {
      "cell_type": "code",
      "source": [
        "# Valores futuros\n",
        "new_samples = np.array([[N, P, K, temperatura, humedad, ph, precipitacion]])\n",
        "\n",
        "# Realiza predicciones en las nuevas muestras utilizando el modelo de árbol de decisión\n",
        "y_pred_new = model.predict(new_samples)\n",
        "\n",
        "# y_pred_new contiene las etiquetas de clase predichas para las nuevas muestras\n",
        "print(f\"La Clasificacion de la etiqueta es: {y_pred_new[0]}\")"
      ],
      "metadata": {
        "id": "ZvcP2U5Lpthb"
      },
      "execution_count": null,
      "outputs": []
    },
    {
      "cell_type": "markdown",
      "source": [
        "# **Exportación del modelo**"
      ],
      "metadata": {
        "id": "d33ro3fLrP8f"
      }
    },
    {
      "cell_type": "code",
      "source": [
        "import pickle\n",
        "\n",
        "# Guardar el modelo en un archivo\n",
        "with open('modelo_arbol.pkl', 'wb') as file:\n",
        "    pickle.dump(model, file)"
      ],
      "metadata": {
        "id": "bUPGXr_ZrK-f"
      },
      "execution_count": null,
      "outputs": []
    }
  ]
}